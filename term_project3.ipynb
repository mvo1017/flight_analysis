{
 "cells": [
  {
   "cell_type": "markdown",
   "metadata": {},
   "source": [
    "# Predicting Delays Based on Flight Data"
   ]
  },
  {
   "cell_type": "markdown",
   "metadata": {},
   "source": [
    "### Import Statements"
   ]
  },
  {
   "cell_type": "code",
   "execution_count": 15,
   "metadata": {},
   "outputs": [],
   "source": [
    "# make sure to use the same kernel as the one you use for class\n",
    "import pandas as pd\n",
    "import numpy as np\n",
    "from sklearn.metrics import classification_report, confusion_matrix, accuracy_score\n"
   ]
  },
  {
   "cell_type": "markdown",
   "metadata": {},
   "source": [
    "### Import Data"
   ]
  },
  {
   "cell_type": "code",
   "execution_count": 6,
   "metadata": {},
   "outputs": [
    {
     "name": "stdout",
     "output_type": "stream",
     "text": [
      "   id Airline  Flight AirportFrom AirportTo  DayOfWeek  Time  Length  Delay\n",
      "0   1      CO     269         SFO       IAH          3    15     205      1\n",
      "1   2      US    1558         PHX       CLT          3    15     222      1\n",
      "2   3      AA    2400         LAX       DFW          3    20     165      1\n",
      "3   4      AA    2466         SFO       DFW          3    20     195      1\n",
      "4   5      AS     108         ANC       SEA          3    30     202      0\n"
     ]
    }
   ],
   "source": [
    "data = pd.read_csv('Airlines.csv')\n",
    "\n",
    "print(data.head()) #check if data imported correctly"
   ]
  },
  {
   "cell_type": "code",
   "execution_count": 7,
   "metadata": {
    "editable": true,
    "slideshow": {
     "slide_type": ""
    },
    "tags": []
   },
   "outputs": [],
   "source": [
    "# Proportion of Flights by Day\n",
    "mon = (data['DayOfWeek'].value_counts()[1]) / len(data)\n",
    "tues = (data['DayOfWeek'].value_counts()[2]) / len(data)\n",
    "wed = (data['DayOfWeek'].value_counts()[3]) / len(data)\n",
    "thurs = (data['DayOfWeek'].value_counts()[4]) / len(data)\n",
    "fri = (data['DayOfWeek'].value_counts()[5]) / len(data)\n",
    "sat = (data['DayOfWeek'].value_counts()[6]) / len(data)\n",
    "sun = (data['DayOfWeek'].value_counts()[7]) / len(data)\n",
    "\n",
    "\n",
    "#Proportion of delays per airline\n",
    "Southwest = len(data[(data['Airline'] == 'WN') & (data['Delay'] == 1)]) / len(data)\n",
    "Delta = len(data[(data['Airline'] == 'DL') & (data['Delay'] == 1)]) / len(data)\n",
    "SkyWest = len(data[(data['Airline'] == 'OO') & (data['Delay'] == 1)]) / len(data)\n",
    "American = len(data[(data['Airline'] == 'AA') & (data['Delay'] == 1)]) / len(data)\n",
    "Envoy = len(data[(data['Airline'] == 'MQ') & (data['Delay'] == 1)]) / len(data)\n",
    "US = len(data[(data['Airline'] == 'US') & (data['Delay'] == 1)]) / len(data)\n",
    "JetSuite = len(data[(data['Airline'] == 'XE') & (data['Delay'] == 1)]) / len(data)\n",
    "ExpressJet = len(data[(data['Airline'] == 'EV') & (data['Delay'] == 1)]) / len(data)\n",
    "United = len(data[(data['Airline'] == 'UA') & (data['Delay'] == 1)]) / len(data)\n",
    "Continental = len(data[(data['Airline'] == 'CO') & (data['Delay'] == 1)]) / len(data)\n",
    "AirTran =  len(data[(data['Airline'] == 'FL') & (data['Delay'] == 1)]) / len(data)\n",
    "Endeavor = len(data[(data['Airline'] == '9E') & (data['Delay'] == 1)]) / len(data)\n",
    "JetBlue = len(data[(data['Airline'] == 'B6') & (data['Delay'] == 1)]) / len(data)\n",
    "Mesa = len(data[(data['Airline'] == 'YV') & (data['Delay'] == 1)]) / len(data)\n",
    "PSA =  len(data[(data['Airline'] == 'OH') & (data['Delay'] == 1)]) / len(data)\n",
    "Alaska =  len(data[(data['Airline'] == 'AS') & (data['Delay'] == 1)]) / len(data)"
   ]
  },
  {
   "cell_type": "code",
   "execution_count": 17,
   "metadata": {},
   "outputs": [
    {
     "name": "stdout",
     "output_type": "stream",
     "text": [
      "Accuracy: 0.610352531123409\n",
      "Confusion Matrix:\n",
      " [[42714 17293]\n",
      " [24741 23129]]\n",
      "Classification Report:\n",
      "               precision    recall  f1-score   support\n",
      "\n",
      "           0       0.63      0.71      0.67     60007\n",
      "           1       0.57      0.48      0.52     47870\n",
      "\n",
      "    accuracy                           0.61    107877\n",
      "   macro avg       0.60      0.60      0.60    107877\n",
      "weighted avg       0.61      0.61      0.61    107877\n",
      "\n"
     ]
    }
   ],
   "source": [
    "from sklearn.tree import DecisionTreeClassifier\n",
    "from sklearn.model_selection import train_test_split\n",
    "X = data[['Airline', 'DayOfWeek', 'Time', 'Length']]\n",
    "y = data['Delay']\n",
    "\n",
    "X = pd.get_dummies(X, columns=['Airline'], drop_first=True) #prevents multicolinearity \n",
    "\n",
    "# Split into train and test\n",
    "X_train, X_tes, y_train, y_test = train_test_split(X, y, test_size=0.2, random_state=17)\n"
   ]
  },
  {
   "cell_type": "code",
   "execution_count": null,
   "metadata": {},
   "outputs": [],
   "source": []
  },
  {
   "cell_type": "code",
   "execution_count": null,
   "metadata": {},
   "outputs": [],
   "source": [
    "#Creating Decision Tree Object\n",
    "clf = DecisionTreeClassifier()\n",
    "#Fit data on model\n",
    "clf.fit(X_train, y_train)\n",
    "\n",
    "#Predict delay on test data\n",
    "y_pred_tree = clf.predict(X_test)\n",
    "\n",
    "# Print metrics\n",
    "print(\"Accuracy:\", accuracy_score(y_test, y_pred))\n",
    "print(\"Confusion Matrix:\\n\", confusion_matrix(y_test, y_pred))\n",
    "print(\"Classification Report:\\n\", classification_report(y_test, y_pred))"
   ]
  }
 ],
 "metadata": {
  "kernelspec": {
   "display_name": "Python 3 (ipykernel)",
   "language": "python",
   "name": "python3"
  },
  "language_info": {
   "codemirror_mode": {
    "name": "ipython",
    "version": 3
   },
   "file_extension": ".py",
   "mimetype": "text/x-python",
   "name": "python",
   "nbconvert_exporter": "python",
   "pygments_lexer": "ipython3",
   "version": "3.12.5"
  }
 },
 "nbformat": 4,
 "nbformat_minor": 4
}
