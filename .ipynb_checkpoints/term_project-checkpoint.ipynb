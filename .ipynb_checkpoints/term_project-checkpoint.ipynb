{
 "cells": [
  {
   "cell_type": "markdown",
   "metadata": {},
   "source": [
    "# Predicting Delays Based on Flight Data"
   ]
  },
  {
   "cell_type": "markdown",
   "metadata": {},
   "source": [
    "### Import Statements"
   ]
  },
  {
   "cell_type": "code",
   "execution_count": 2,
   "metadata": {},
   "outputs": [],
   "source": [
    "# make sure to use the same kernel as the one you use for class\n",
    "import pandas as pd\n",
    "import numpy as np"
   ]
  },
  {
   "cell_type": "markdown",
   "metadata": {},
   "source": [
    "### Import Data"
   ]
  },
  {
   "cell_type": "code",
   "execution_count": null,
   "metadata": {},
   "outputs": [
    {
     "name": "stdout",
     "output_type": "stream",
     "text": [
      "   id Airline  Flight AirportFrom AirportTo  DayOfWeek  Time  Length  Delay\n",
      "0   1      CO     269         SFO       IAH          3    15     205      1\n",
      "1   2      US    1558         PHX       CLT          3    15     222      1\n",
      "2   3      AA    2400         LAX       DFW          3    20     165      1\n",
      "3   4      AA    2466         SFO       DFW          3    20     195      1\n",
      "4   5      AS     108         ANC       SEA          3    30     202      0\n"
     ]
    }
   ],
   "source": [
    "data = pd.read_csv('Airlines.csv')\n",
    "\n",
    "print(data.head()) #check if data imported correctly"
   ]
  },
  {
   "cell_type": "code",
   "execution_count": 7,
   "metadata": {
    "editable": true,
    "slideshow": {
     "slide_type": ""
    },
    "tags": []
   },
   "outputs": [
    {
     "data": {
      "text/plain": [
       "Airline\n",
       "WN    94097\n",
       "DL    60940\n",
       "OO    50254\n",
       "AA    45656\n",
       "MQ    36605\n",
       "US    34500\n",
       "XE    31126\n",
       "EV    27983\n",
       "UA    27619\n",
       "CO    21118\n",
       "FL    20827\n",
       "9E    20686\n",
       "B6    18112\n",
       "YV    13725\n",
       "OH    12630\n",
       "AS    11471\n",
       "F9     6456\n",
       "HA     5578\n",
       "Name: count, dtype: int64"
      ]
     },
     "execution_count": 7,
     "metadata": {},
     "output_type": "execute_result"
    }
   ],
   "source": [
    "# Proportion of Flights by Day\n",
    "mon = (data['DayOfWeek'].value_counts()[1]) / len(data)\n",
    "tues = (data['DayOfWeek'].value_counts()[2]) / len(data)\n",
    "wed = (data['DayOfWeek'].value_counts()[3]) / len(data)\n",
    "thurs = (data['DayOfWeek'].value_counts()[4]) / len(data)\n",
    "fri = (data['DayOfWeek'].value_counts()[5]) / len(data)\n",
    "sat = (data['DayOfWeek'].value_counts()[6]) / len(data)\n",
    "sun = (data['DayOfWeek'].value_counts()[7]) / len(data)\n",
    "\n",
    "\n",
    "#Proportion of delays per airline\n",
    "\n",
    "Alaska_Airlines = len(data[(data['Airline'] == 'AS') & (data['Delay'] == 1)]) / len(data)\n",
    "American_Airlines = len(data[(data['Airline'] == 'AA') & (data['Delay'] == 1)]) / len(data)\n",
    "Air_Canada = len(data[(data['Airline'] == 'AC') & (data['Delay'] == 1)]) / len(data)\n",
    "AM = len(data[(data['Airline'] == 'AM') & (data['Delay'] == 1)]) / len(data)\n",
    "CO = len(data[(data['Airline'] == 'CO') & (data['Delay'] == 1)]) / len(data)\n",
    "DL = len(data[(data['Airline'] == 'DL') & (data['Delay'] == 1)]) / len(data)\n",
    "FX = len(data[(data['Airline'] == 'FX') & (data['Delay'] == 1)]) / len(data)\n",
    "HA = len(data[(data['Airline'] == 'HA') & (data['Delay'] == 1)]) / len(data)\n",
    "NW = len(data[(data['Airline'] == 'NW') & (data['Delay'] == 1)]) / len(data)\n",
    "PO = len(data[(data['Airline'] == 'PO') & (data['Delay'] == 1)]) / len(data)\n",
    "SW = len(data[(data['Airline'] == 'SW') & (data['Delay'] == 1)]) / len(data)\n",
    "UA = len(data[(data['Airline'] == 'UA') & (data['Delay'] == 1)]) / len(data)\n",
    "X = len(data[(data['Airline'] == '5X') & (data['Delay'] == 1)]) / len(data)\n",
    "VS = len(data[(data['Airline'] == 'VS') & (data['Delay'] == 1)]) / len(data)\n",
    "VB = len(data[(data['Airline'] == 'VB') & (data['Delay'] == 1)]) / len(data)\n",
    "WS = len(data[(data['Airline'] == 'WS') & (data['Delay'] == 1)]) / len(data)\n",
    "data['Airline'].value_counts()"
   ]
  }
 ],
 "metadata": {
  "kernelspec": {
   "display_name": "Python 3",
   "language": "python",
   "name": "python3"
  },
  "language_info": {
   "codemirror_mode": {
    "name": "ipython",
    "version": 3
   },
   "file_extension": ".py",
   "mimetype": "text/x-python",
   "name": "python",
   "nbconvert_exporter": "python",
   "pygments_lexer": "ipython3",
   "version": "3.12.0"
  }
 },
 "nbformat": 4,
 "nbformat_minor": 4
}
