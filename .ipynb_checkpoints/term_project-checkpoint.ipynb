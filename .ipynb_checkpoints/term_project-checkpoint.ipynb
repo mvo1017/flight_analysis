{
 "cells": [
  {
   "cell_type": "markdown",
   "metadata": {},
   "source": [
    "# Predicting Delays Based on Flight Data"
   ]
  },
  {
   "cell_type": "markdown",
   "metadata": {},
   "source": [
    "### Import Statements"
   ]
  },
  {
   "cell_type": "code",
   "execution_count": 1,
   "metadata": {},
   "outputs": [],
   "source": [
    "# make sure to use the same kernel as the one you use for class\n",
    "import pandas as pd\n",
    "import numpy as np"
   ]
  },
  {
   "cell_type": "markdown",
   "metadata": {},
   "source": [
    "### Import Data"
   ]
  },
  {
   "cell_type": "code",
   "execution_count": 5,
   "metadata": {},
   "outputs": [
    {
     "name": "stdout",
     "output_type": "stream",
     "text": [
      "   id Airline  Flight AirportFrom AirportTo  DayOfWeek  Time  Length  Delay\n",
      "0   1      CO     269         SFO       IAH          3    15     205      1\n",
      "1   2      US    1558         PHX       CLT          3    15     222      1\n",
      "2   3      AA    2400         LAX       DFW          3    20     165      1\n",
      "3   4      AA    2466         SFO       DFW          3    20     195      1\n",
      "4   5      AS     108         ANC       SEA          3    30     202      0\n"
     ]
    }
   ],
   "source": [
    "data = pd.read_csv('Airlines.csv')\n",
    "\n",
    "print(data.head()) #check if data imported correctly"
   ]
  },
  {
   "cell_type": "code",
   "execution_count": 6,
   "metadata": {
    "editable": true,
    "slideshow": {
     "slide_type": ""
    },
    "tags": []
   },
   "outputs": [
    {
     "data": {
      "text/plain": [
       "Airline\n",
       "WN    94097\n",
       "DL    60940\n",
       "OO    50254\n",
       "AA    45656\n",
       "MQ    36605\n",
       "US    34500\n",
       "XE    31126\n",
       "EV    27983\n",
       "UA    27619\n",
       "CO    21118\n",
       "FL    20827\n",
       "9E    20686\n",
       "B6    18112\n",
       "YV    13725\n",
       "OH    12630\n",
       "AS    11471\n",
       "F9     6456\n",
       "HA     5578\n",
       "Name: count, dtype: int64"
      ]
     },
     "execution_count": 6,
     "metadata": {},
     "output_type": "execute_result"
    }
   ],
   "source": [
    "# Proportion of Flights by Day\n",
    "mon = (data['DayOfWeek'].value_counts()[1]) / len(data)\n",
    "tues = (data['DayOfWeek'].value_counts()[2]) / len(data)\n",
    "wed = (data['DayOfWeek'].value_counts()[3]) / len(data)\n",
    "thurs = (data['DayOfWeek'].value_counts()[4]) / len(data)\n",
    "fri = (data['DayOfWeek'].value_counts()[5]) / len(data)\n",
    "sat = (data['DayOfWeek'].value_counts()[6]) / len(data)\n",
    "sun = (data['DayOfWeek'].value_counts()[7]) / len(data)\n",
    "\n",
    "\n",
    "#Proportion of delays per airline\n",
    "\n",
    "Alaska_Airlines = len(data[(data['Airline'] == 'AS') & (data['Delay'] == 1)]) / len(data)\n",
    "American_Airlines = len(data[(data['Airline'] == 'AA') & (data['Delay'] == 1)]) / len(data)\n",
    "Air_Canada = len(data[(data['Airline'] == 'AC') & (data['Delay'] == 1)]) / len(data)\n",
    "AM = len(data[(data['Airline'] == 'AM') & (data['Delay'] == 1)]) / len(data)\n",
    "CO = len(data[(data['Airline'] == 'CO') & (data['Delay'] == 1)]) / len(data)\n",
    "DL = len(data[(data['Airline'] == 'DL') & (data['Delay'] == 1)]) / len(data)\n",
    "FX = len(data[(data['Airline'] == 'FX') & (data['Delay'] == 1)]) / len(data)\n",
    "HA = len(data[(data['Airline'] == 'HA') & (data['Delay'] == 1)]) / len(data)\n",
    "NW = len(data[(data['Airline'] == 'NW') & (data['Delay'] == 1)]) / len(data)\n",
    "PO = len(data[(data['Airline'] == 'PO') & (data['Delay'] == 1)]) / len(data)\n",
    "SW = len(data[(data['Airline'] == 'SW') & (data['Delay'] == 1)]) / len(data)\n",
    "UA = len(data[(data['Airline'] == 'UA') & (data['Delay'] == 1)]) / len(data)\n",
    "X = len(data[(data['Airline'] == '5X') & (data['Delay'] == 1)]) / len(data)\n",
    "VS = len(data[(data['Airline'] == 'VS') & (data['Delay'] == 1)]) / len(data)\n",
    "VB = len(data[(data['Airline'] == 'VB') & (data['Delay'] == 1)]) / len(data)\n",
    "WS = len(data[(data['Airline'] == 'WS') & (data['Delay'] == 1)]) / len(data)\n",
    "data['Airline'].value_counts()"
   ]
  },
  {
   "cell_type": "markdown",
   "metadata": {},
   "source": [
    "## Model 3 : Knn Model"
   ]
  },
  {
   "cell_type": "code",
   "execution_count": 7,
   "metadata": {},
   "outputs": [
    {
     "name": "stdout",
     "output_type": "stream",
     "text": [
      "Feature and target variables defined.\n",
      "X shape: (539383, 8)\n",
      "y shape: (539383,)\n",
      "Data split into training and testing sets.\n",
      "KNN model trained.\n",
      "Training Set Results (k=5)\n",
      "              precision    recall  f1-score   support\n",
      "\n",
      "           0       0.74      0.79      0.76    239240\n",
      "           1       0.71      0.66      0.68    192266\n",
      "\n",
      "    accuracy                           0.73    431506\n",
      "   macro avg       0.73      0.72      0.72    431506\n",
      "weighted avg       0.73      0.73      0.73    431506\n",
      "\n",
      "Confusion Matrix (Training):\n",
      " [[188607  50633]\n",
      " [ 66213 126053]]\n",
      "\n",
      "Testing Set Results (k=5)\n",
      "              precision    recall  f1-score   support\n",
      "\n",
      "           0       0.62      0.66      0.64     59879\n",
      "           1       0.54      0.49      0.52     47998\n",
      "\n",
      "    accuracy                           0.59    107877\n",
      "   macro avg       0.58      0.58      0.58    107877\n",
      "weighted avg       0.58      0.59      0.59    107877\n",
      "\n",
      "Confusion Matrix (Testing):\n",
      " [[39686 20193]\n",
      " [24262 23736]]\n"
     ]
    }
   ],
   "source": [
    "from sklearn import metrics\n",
    "from sklearn.neighbors import KNeighborsClassifier\n",
    "from sklearn.model_selection import train_test_split\n",
    "import pandas as pd\n",
    "from sklearn.preprocessing import LabelEncoder\n",
    "\n",
    "# Load the data\n",
    "label_encoder = LabelEncoder()\n",
    "data[\"Airline\"] = label_encoder.fit_transform(data[\"Airline\"])\n",
    "data[\"Flight\"] = label_encoder.fit_transform(data[\"Flight\"])\n",
    "data[\"AirportFrom\"] = label_encoder.fit_transform(data[\"AirportFrom\"])\n",
    "data[\"AirportTo\"] = label_encoder.fit_transform(data[\"AirportTo\"])\n",
    "\n",
    "# Define features and target variable\n",
    "X = data[\n",
    "    [\"id\", \n",
    "     \"Airline\",\n",
    "     \"Flight\", \n",
    "     \"AirportFrom\", \n",
    "     \"AirportTo\", \n",
    "     \"DayOfWeek\",\n",
    "     \"Time\", \n",
    "     \"Length\"\n",
    "    ]\n",
    "]\n",
    "\n",
    "y = data[\"Delay\"]\n",
    "\n",
    "print(\"Feature and target variables defined.\")\n",
    "print(\"X shape:\", X.shape)\n",
    "print(\"y shape:\", y.shape)\n",
    "\n",
    "# Split data into training and testing sets\n",
    "X_train, X_test, y_train, y_test = train_test_split(X, y, test_size=0.2, random_state=42)\n",
    "print(\"Data split into training and testing sets.\")\n",
    "\n",
    "# Initialize the KNN model with k=5\n",
    "knn_5 = KNeighborsClassifier(n_neighbors=5)\n",
    "knn_5.fit(X_train, y_train)\n",
    "print(\"KNN model trained.\")\n",
    "\n",
    "# Make predictions on the training and testing sets\n",
    "y_train_pred_knn_5 = knn_5.predict(X_train)\n",
    "y_test_pred_knn_5 = knn_5.predict(X_test)\n",
    "\n",
    "# Evaluate the model on the training set\n",
    "print(\"Training Set Results (k=5)\")\n",
    "print(metrics.classification_report(y_train, y_train_pred_knn_5))\n",
    "print(\"Confusion Matrix (Training):\\n\", metrics.confusion_matrix(y_train, y_train_pred_knn_5))\n",
    "\n",
    "# Evaluate the model on the testing set\n",
    "print(\"\\nTesting Set Results (k=5)\")\n",
    "print(metrics.classification_report(y_test, y_test_pred_knn_5))\n",
    "print(\"Confusion Matrix (Testing):\\n\", metrics.confusion_matrix(y_test, y_test_pred_knn_5))"
   ]
  },
  {
   "cell_type": "markdown",
   "metadata": {},
   "source": [
    "## Evaluation Metrics\n",
    "\n",
    "Accuracy\n",
    "\n",
    "Precision \n",
    "\n",
    "Recall\n",
    "\n",
    "F1-Score\n",
    "\n",
    "Confusion matrix"
   ]
  },
  {
   "cell_type": "code",
   "execution_count": 8,
   "metadata": {},
   "outputs": [
    {
     "name": "stdout",
     "output_type": "stream",
     "text": [
      "Accuracy: 0.5879\n",
      "Precision: 0.5403\n",
      "Recall: 0.4945\n"
     ]
    }
   ],
   "source": [
    "from sklearn import metrics\n",
    "from sklearn.neighbors import KNeighborsClassifier\n",
    "from sklearn.model_selection import train_test_split\n",
    "from sklearn.preprocessing import LabelEncoder\n",
    "import pandas as pd\n",
    "\n",
    "X_train, X_test, y_train, y_test = train_test_split(X, y, test_size=0.2, random_state=42)\n",
    "\n",
    "# Train the KNN model\n",
    "knn = KNeighborsClassifier(n_neighbors=5)\n",
    "knn.fit(X_train, y_train)\n",
    "\n",
    "# Make predictions on the testing set\n",
    "y_pred = knn.predict(X_test)\n",
    "\n",
    "# Calculate Accuracy, Precision, and Recall\n",
    "accuracy = metrics.accuracy_score(y_test, y_pred)\n",
    "precision = metrics.precision_score(y_test, y_pred)\n",
    "recall = metrics.recall_score(y_test, y_pred)\n",
    "\n",
    "# Display the metrics\n",
    "print(f\"Accuracy: {accuracy:.4f}\")\n",
    "print(f\"Precision: {precision:.4f}\")\n",
    "print(f\"Recall: {recall:.4f}\")"
   ]
  }
 ],
 "metadata": {
  "kernelspec": {
   "display_name": "Python 3 (ipykernel)",
   "language": "python",
   "name": "python3"
  },
  "language_info": {
   "codemirror_mode": {
    "name": "ipython",
    "version": 3
   },
   "file_extension": ".py",
   "mimetype": "text/x-python",
   "name": "python",
   "nbconvert_exporter": "python",
   "pygments_lexer": "ipython3",
   "version": "3.12.0"
  }
 },
 "nbformat": 4,
 "nbformat_minor": 4
}
